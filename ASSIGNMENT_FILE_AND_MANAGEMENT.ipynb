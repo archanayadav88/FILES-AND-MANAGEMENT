{
  "nbformat": 4,
  "nbformat_minor": 0,
  "metadata": {
    "colab": {
      "provenance": []
    },
    "kernelspec": {
      "name": "python3",
      "display_name": "Python 3"
    },
    "language_info": {
      "name": "python"
    }
  },
  "cells": [
    {
      "cell_type": "markdown",
      "source": [
        "**THEORY QUESTIONS**"
      ],
      "metadata": {
        "id": "t_Cut3SUyORu"
      }
    },
    {
      "cell_type": "markdown",
      "source": [
        "Q:1-**What is the difference between interpreted and compiled languages?**\n",
        "\n",
        "ANS:`Difference between Interpreted and Compiled Languages`\n",
        "**Interpreted Language**: Code is executed line by line by an interpreter.\n",
        "Examples: Python, JavaScript.\n",
        "Pros: Easier debugging, platform-independent.\n",
        "Cons: Slower execution.\n",
        "\n",
        "**Compiled Language**: Code is first converted into machine code (binary) by a compiler before execution.\n",
        "Examples: C, C++, Go.\n",
        "Pros: Faster execution.\n",
        "Cons: Less portable, compilation takes time\n",
        "\n",
        "EXAMPLE:\n",
        "print(\"Hello Python\")\n",
        "int main() {\n",
        "   printf(\"Hello C\");\n",
        "   return 0;\n",
        "}\n",
        "\n",
        "Q:2- **What is exception handling in Python?**\n",
        "\n",
        "ANS:`Exception Handling in Python`:-Python Exception Handling allows a program to gracefully handle unexpected events (like invalid input or missing files) without crashing. Instead of terminating abruptly, Python lets you detect the problem, respond to it, and continue execution when possible.\n",
        "\n",
        "1)Mechanism to handle runtime errors and prevent program crash.\n",
        "2)Uses `try-except-finally` blocks.\n",
        "\n",
        "EXAMPLE:\n",
        "try:\n",
        "   x = 10 / 0\n",
        "except ZeroDivisionError:\n",
        "  print(\"You cannot divide by zero!\")\n",
        "\n",
        "\n",
        "Q:-3** What is the purpose of the finally block in exception handling?**\n",
        "\n",
        "ANS:`Purpose of the finally block:`-This optional block is always executed, regardless of whether an exception occurred or not. It is typically used for cleanup operations, such as closing files or releasing resources, ensuring they are performed even in the event of an error.\n",
        "\n",
        "1)Executes always (whether exception occurs or not).\n",
        "2)Used for cleanup actions.\n",
        "\n",
        "EXAMPLE:\n",
        "try:\n",
        "   f = open(\"data.txt\", \"r\")\n",
        "except FileNotFoundError:\n",
        "  print(\"File not found\")\n",
        "finally:\n",
        "   print(\"Closing program...\")\n",
        "\n",
        "Q:4-**What is logging in Python?**\n",
        "\n",
        "ANS:-Logging in Python is the process of recording events that occur during the execution of a software program. It involves capturing and storing data about these events, such as errors, warnings, and informational messages, to provide insights into the program's behavior. This is particularly useful for debugging, performance analysis, monitoring usage patterns, and understanding the flow of an application.\n",
        "\n",
        "Python provides a built-in logging module in its standard library, which offers a robust and flexible framework for implementing logging. This module allows developers to:\n",
        "\n",
        "1)`Generate Log Messages`: Add calls to their code to indicate that certain events have occurred, along with descriptive messages and variable data.\n",
        "Set Log Levels: Assign a level of importance or severity to each log message (e.g., DEBUG, INFO, WARNING, ERROR, CRITICAL). This allows for filtering, so only messages above a certain severity are processed.\n",
        "\n",
        "2)`Configure Loggers`: Create and manage loggers, which are the primary interface for logging.\n",
        "\n",
        "3)`Define Handlers`: Specify where log messages should be sent (e.g., console, file, network stream).\n",
        "\n",
        "4)`Format Log Messages`: Customize the appearance of log messages to include contextual information like timestamps, logger names, log levels, source code location, and more.\n",
        "\n",
        "EXAMPLE:\n",
        "import logging\n",
        "logging.basicConfig(level=logging.INFO)\n",
        "logging.info(\"Program started\")\n",
        "logging.error(\"An error occurred\")\n",
        "\n",
        "Q:5-**What is the significance of the __del__ method in Python**?\n",
        "\n",
        "ANS:The __del__ method in Python, also known as the destructor or finalizer, holds significance primarily in the context of resource management and object cleanup.\n",
        "\n",
        "EXAMPLE:\n",
        "class MyClass:\n",
        "   def __del__(self):\n",
        "        print(\"Object destroyed\")\n",
        "obj = MyClass()\n",
        "del obj\n",
        "\n",
        "Q:6-**What is the difference between import and from ... import in Python**?\n",
        "\n",
        "ANS:`Difference between import and from ... import in Python`\n",
        "#Using import:-\n",
        "1)Imports the entire module.\n",
        "2)You must use the module name prefix to access functions, classes, or variables.\n",
        "\n",
        "EXAMPLE:\n",
        "import math\n",
        "print(math.sqrt(16))  \n",
        "print(math.pi)        \n",
        "\n",
        "#Using from ... import\n",
        "1)Imports specific names (functions, variables, classes) directly.\n",
        "2)You don't need the module name prefix.\n",
        "\n",
        "EXAMPLE:\n",
        "from math import sqrt, pi\n",
        "print(sqrt(25))   \n",
        "print(pi)\n",
        "\n",
        "Q:7-**How can you handle multiple exceptions in Python**?\n",
        "\n",
        "ANS:We can catch multiple exceptions in a single block if we need to handle them in the same way or we can separate them if different types of exceptions require different handling.\n",
        "\n",
        "EXAMPLE:- This code attempts to convert list elements and handles ValueError, TypeError and IndexError.\n",
        "a=[\"10\", \"twenty\", 30]\n",
        "try:\n",
        "  total = int(a[0]) + int(a[1])\n",
        "    \n",
        "except (ValueError, TypeError) as e:\n",
        "    print(\"Error\", e)\n",
        "    \n",
        "except IndexError:\n",
        "    print(\"Index out of range.\")\n",
        "    \n",
        "\n",
        "Q:8-**What is the purpose of the with statement when handling files in Python**?\n",
        "\n",
        "ANS:The with statement in Python is used to simplify file handling and ensure that resources are properly managed — particularly that files are automatically closed after their use, even if an error occurs during file operations.\n",
        "\n",
        "`Purpose of the with statement`\n",
        "#When handling files, the with statement:\n",
        "1)Automatically opens and closes files — no need to explicitly call file.close().\n",
        "2)Prevents resource leaks — the file will always be closed, even if an exception occurs.\n",
        "3)Makes the code cleaner and more readable.\n",
        "\n",
        "EXAMPLE:\n",
        "#SYNTAX\n",
        "with open(\"filename.txt\", \"r\") as file:\n",
        "   data = file.read()\n",
        "   print(data)\n",
        "\n",
        "\n",
        "Q:9-**What is the difference between multithreading and multiprocessing?**\n",
        "\n",
        "ANS:Multithreading is a technique where a single process runs multiple threads simultaneously.\n",
        "Each thread is a smaller unit of a process that can execute independently — allowing multiple tasks to be performed apparently at the same time within one program.\n",
        "#When to Use Multithreading\n",
        "-Use multithreading for I/O-bound tasks, such as:\n",
        "1)Reading/writing files\n",
        "2)Downloading from the internet\n",
        "3)Waiting for API responses\n",
        "\n",
        "EXAMPLE:\n",
        "import threading\n",
        "import time\n",
        "\n",
        "def print_numbers():\n",
        "    for i in range(5):\n",
        "        print(f\"Number: {i}\")\n",
        "        time.sleep(1)\n",
        "\n",
        "def print_letters():\n",
        "    for letter in ['A', 'B', 'C', 'D', 'E']:\n",
        "        print(f\"Letter: {letter}\")\n",
        "        time.sleep(1)\n",
        "t1 = threading.Thread(target=print_numbers)\n",
        "t2 = threading.Thread(target=print_letters)\n",
        "\n",
        "t1.start()\n",
        "t2.start()\n",
        "\n",
        "t1.join()\n",
        "t2.join()\n",
        "print(\"Both threads completed!\")\n",
        "\n",
        "MULTIPROCESSING:-Multiprocessing is a technique that allows a program to run multiple processes simultaneously, with each process running in its own Python interpreter and having its own memory space.\n",
        "#When to Use Multiprocessing\n",
        "Use it for CPU-bound tasks, such as:\n",
        "1)Mathematical computations\n",
        "2)Image or video processing\n",
        "3)Machine learning\n",
        "4)Data compression or encryption\n",
        "5)Avoid it for simple I/O-bound tasks (use multithreading instead).\n",
        "\n",
        "EXAMPLE:\n",
        "import multiprocessing\n",
        "import time\n",
        "\n",
        "def square_numbers():\n",
        "    for i in range(5):\n",
        "        print(f\"{i} squared is {i * i}\")\n",
        "        time.sleep(1)\n",
        "\n",
        "if __name__ == \"__main__\":\n",
        "    \n",
        "    p1 = multiprocessing.Process(target=square_numbers)\n",
        "    p2 = multiprocessing.Process(target=square_numbers)\n",
        "\n",
        "    p1.start()\n",
        "    p2.start()\n",
        "\n",
        "    p1.join()\n",
        "    p2.join()\n",
        "\n",
        "    print(\"Both processes completed!\")\n",
        "\n",
        "\n",
        "Q:10-**What are the advantages of using logging in a program?**\n",
        "\n",
        "ANS:Logging is one of the most important tools for monitoring, debugging, and maintaining software.\n",
        "Instead of printing messages to the console with print(), you use the logging module, which gives you much more control and flexibility.\n",
        "\n",
        "#Advantages of Using Logging in a Program\n",
        "1)Helps in Debugging and Troubleshooting\n",
        "Example: Helps identify which part of the code failed during execution.\n",
        "\n",
        "2)Provides Persistent Records\n",
        "Example: Useful for tracking performance or usage over time.\n",
        "\n",
        "3)Offers Different Severity Levels\n",
        "The logging module supports levels of importance:\n",
        "DEBUG → Detailed information for debugging\n",
        "INFO → General runtime events\n",
        "WARNING → Something unexpected, but program continues\n",
        "ERROR → Serious issue; part of the program failed\n",
        "CRITICAL → Very serious error; program may stop\n",
        "Example: You can filter or highlight only important events.\n",
        "\n",
        "4)Easier Maintenance\n",
        "Example: Turn on DEBUG level during development and only ERROR in production.\n",
        "\n",
        "5)Better than print() Statements\n",
        "Example: logging gives detailed context like:\n",
        "\n",
        "6) Useful in Multi-User or Long-Running Programs\n",
        "Example: Web servers log requests, errors, and performance data continuously.\n",
        "\n",
        "7)Helps in Performance Monitoring\n",
        "Example: Identify slow database queries or frequent timeout errors.\n",
        "\n",
        "EXAMPLE:\n",
        "import logging\n",
        "logging.basicConfig(filename='app.log', level=logging.INFO,\n",
        "                    format='%(asctime)s - %(levelname)s - %(message)s')\n",
        "logging.info(\"Program started\")\n",
        "logging.warning(\"Low disk space\")\n",
        "logging.error(\"File not found\")\n",
        "logging.critical(\"System crash!\")\n",
        "\n",
        "\n",
        "Q:11-**What is memory management in Python?**\n",
        "\n",
        "ANS:Memory management in Python refers to the process of allocating, tracking, and freeing up memory automatically as your program runs.\n",
        "#Key Components of Python Memory Management\n",
        "a) Private Heap Space\n",
        "b) Memory Manager\n",
        "c) Garbage Collector\n",
        "\n",
        "Q:12-**What are the basic steps involved in exception handling in Python?**\n",
        "\n",
        "ANS:Basic Steps Involved in Exception Handling in Python:-\n",
        "#Use a try Block\n",
        "EXAMPLE:\n",
        "try:\n",
        "   x = int(input(\"Enter a number: \"))\n",
        "   result = 10 / x\n",
        "\n",
        "#Use an except Block\n",
        "EXAMPLE:\n",
        "try:\n",
        "   x = int(input(\"Enter a number: \"))\n",
        "   result = 10 / x\n",
        "except ZeroDivisionError:\n",
        "   print(\"x Cannot divide by zero.\")\n",
        "except ValueError:\n",
        "   print(\"x Invalid input! Please enter a number.\")\n",
        "\n",
        "#Use an Optional else Block   \n",
        "EXAMPLE:\n",
        "try:\n",
        "   x = int(input(\"Enter a number: \"))\n",
        "   result = 10 / x\n",
        "except ZeroDivisionError:\n",
        "     print(\"Cannot divide by zero.\")\n",
        "else:\n",
        "   print(\"Result:\", result)\n",
        "\n",
        "#Use an Optional finally Block   \n",
        "EXAMPLE:\n",
        "try:\n",
        "   file = open(\"data.txt\", \"r\")\n",
        "   content = file.read()\n",
        "except FileNotFoundError:\n",
        "     print(\"File not found.\")\n",
        "finally:\n",
        "     file.close()\n",
        "     print(\"File closed.\")\n",
        "\n",
        "#(Optional) Raise Exceptions Manually\n",
        "EXAMPLE:\n",
        "x = -5\n",
        "if x < 0:\n",
        "     raise ValueError(\"Number must be positive.\")\n",
        "\n",
        "\n",
        "Q:13-**Why is memory management important in Python**?\n",
        "\n",
        "ANS:IT IS IMPORTANT FOR:-\n",
        "#Efficient Use of Memory\n",
        "1)Python programs often handle large data sets or objects.\n",
        "2)Good memory management ensures your program uses only the memory it needs and frees it when done.\n",
        "#Automatic Garbage Collection\n",
        "1)Python has a built-in garbage collector that automatically deletes objects no longer in use.\n",
        "2)This prevents memory leaks, where unused objects occupy space unnecessarily.\n",
        "#Improved Performance\n",
        "1)By freeing unused memory, Python can run faster and handle larger workloads without slowing down.\n",
        "#Prevents Crashes\n",
        "1)Uncontrolled memory usage can lead to “Out of Memory” errors.\n",
        "2)Efficient management ensures the program stays stable and responsive.\n",
        "#Simplifies Development\n",
        "1)Python's automatic memory management (through reference counting and garbage collection) lets developers focus on logic instead of manual memory handling.\n",
        "EXAMPLE:\n",
        "import gc\n",
        "\n",
        "class MyClass:\n",
        "     def __init__(self):\n",
        "        print(\"Object created\")\n",
        "\n",
        "     def __del__(self):\n",
        "        print(\"Object destroyed\")\n",
        "\n",
        "obj = MyClass()     \n",
        "del obj             \n",
        "gc.collect()        \n",
        "\n",
        "Q:14-**What is the role of try and except in exception handling**?\n",
        "\n",
        "ANS:-:Role of try and except:-\n",
        "#try block:\n",
        "1)The try block contains the code that might cause an exception (error).\n",
        "2)Python executes the code inside try, and if no error occurs, the except block is skipped.\n",
        "#except block:\n",
        "1)The except block runs only if an exception occurs in the try block.\n",
        "2)It allows you to handle the error — for example, by printing a message, logging the issue, or providing an alternative action — instead of stopping the program.\n",
        "\n",
        "EXAMPLE:\n",
        "try:\n",
        "     x = int(input(\"Enter a number: \"))\n",
        "     print(10 / x)\n",
        "except ZeroDivisionError:\n",
        "     print(\"You cannot divide by zero!\")\n",
        "except ValueError:\n",
        "     print(\"Please enter a valid integer.\")\n",
        "\n",
        "Q:15-**How does Python's garbage collection system work**?\n",
        "\n",
        "ANS:Python's garbage collection (GC) system is responsible for automatically managing memory, freeing up memory used by objects that are no longer needed so your program doesn't run out of memory.\n",
        "\n",
        "#HOW IT WORKS:-\n",
        "#Reference Counting\n",
        "1)Every Python object keeps track of how many references point to it.\n",
        "2)When the reference count drops to zero, the object is automatically destroyed.\n",
        "EXAMPLE:\n",
        "a = [1, 2, 3]\n",
        "b = a         \n",
        "del a         \n",
        "del b          \n",
        "#Cycle Detection (Garbage Collector)\n",
        "1)Circular references occur when objects reference each other but are no longer accessible from the program.\n",
        "2)Python uses the gc module to manage these cycles.\n",
        "EXAMPLE:\n",
        "import gc\n",
        "print(gc.isenabled())\n",
        "gc.collect()           \n",
        "#Garbage Collection Process\n",
        "1)Identify objects in memory.\n",
        "2)Remove objects with reference count = 0 immediately.\n",
        "3)Detect cycles among objects that are unreachable.\n",
        "4)Deallocate memory for unreachable objects, even if they reference each other.\n",
        "#Important Points\n",
        "1)Python's GC mostly works automatically, but you can manually control it with the gc module.\n",
        "2)Memory leaks can still occur if objects are referenced by global variables or caches.\n",
        "3)Objects with a __del__ method (destructors) involved in cycles can complicate GC because Python may not immediately reclaim them.\n",
        "\n",
        "\n",
        "Q:16-**What is the purpose of the else block in exception handling?**\n",
        "\n",
        "ANS:`Purpose of the else Block`:-\n",
        "1)The else block is executed only if no exception occurs in the try block.\n",
        "2)It is useful for code that should run after the try block succeeds, but should not run if an exception was raised.\n",
        "3)This helps separate error-handling code from normal execution code, making your program cleaner and more readable.\n",
        "\n",
        "EXAMPLE:\n",
        "try:\n",
        "   result = 10 / 2\n",
        "except ZeroDivisionError:\n",
        "     print(\"Division by zero occurred!\")\n",
        "else:\n",
        "     print(\"Division succeeded, result is:\", result)\n",
        "finally:\n",
        "      print(\"This always runs.\")\n",
        "\n",
        "\n",
        "Q:17-**What are the common logging levels in Python**?\n",
        "\n",
        "ANS:The logging module provides a flexible way to log messages at different severity levels. The common logging levels, from lowest to highest severity, are:\n",
        "#DEBUG\n",
        "Purpose: Detailed information, typically of interest only when diagnosing problems.\n",
        "Example: logging.debug(\"This is a debug message\")\n",
        "#INFO\n",
        "Purpose: General information about program execution.\n",
        "Example: logging.info(\"The process started successfully\")\n",
        "#WARNING\n",
        "Purpose: Indicates something unexpected happened, or indicative of some problem in the near future (e.g., “disk space low”). The program is still running as expected.\n",
        "Example: logging.warning(\"This is a warning message\")\n",
        "#ERROR\n",
        "Purpose: Due to a more serious problem, the software has not been able to perform some function.\n",
        "Example: logging.error(\"Failed to open file\")\n",
        "#CRITICAL\n",
        "Purpose: A very serious error, indicating the program itself may be unable to continue running.\n",
        "Example: logging.critical(\"System is out of memory\")\n",
        "\n",
        "#EXAMPLE:\n",
        "import logging\n",
        "\n",
        "logging.basicConfig(level=logging.DEBUG)\n",
        "\n",
        "logging.debug(\"Debugging info\")\n",
        "logging.info(\"General info\")\n",
        "logging.warning(\"Warning message\")\n",
        "logging.error(\"Error occurred\")\n",
        "logging.critical(\"Critical issue\")\n",
        "\n",
        "\n",
        "Q:18-**What is the difference between os.fork() and multiprocessing in Python**?\n",
        "\n",
        "ANS:`os.fork()`: This is a low-level system call, directly invoking the Unix fork() system call. It's only available on Unix-like operating systems (Linux, macOS, etc.) and is not available on Windows. It offers fine-grained control over process creation but requires careful handling.\n",
        "#Key points:\n",
        "1)The new process (child) is almost identical to the parent process.\n",
        "2)Both parent and child continue execution from the point of fork().\n",
        "3)Returns 0 in the child and the child’s PID in the parent.\n",
        "4)Memory is copied-on-write, meaning changes in one process generally don’t affect the other.\n",
        "#EXAMPLE:\n",
        "import os\n",
        "pid = os.fork()\n",
        "if pid == 0:\n",
        "     print(\"I am the child process\")\n",
        "else:\n",
        "     print(f\"I am the parent process, child PID is {pid}\")\n",
        "\n",
        "`multiprocessing module`: This module provides a higher-level, cross-platform API for creating and managing processes. It abstracts away the underlying operating system details, making your multiprocessing code portable across Unix-like systems and Windows. It can use fork on Unix-like systems and spawn (which starts a fresh Python interpreter) on Windows and macOS by default.\n",
        "#Key points:\n",
        "1)Abstracts away low-level details like fork().\n",
        "2)Supports Process, Pool, Queue, Pipe, and shared memory.\n",
        "3)Handles the differences between platforms, so your code is portable.\n",
        "4)Each process has its own Python interpreter, so you avoid the Global Interpreter Lock (GIL).\n",
        "#EXAMPLE:\n",
        "from multiprocessing import Process\n",
        "def worker(name):\n",
        "     print(f\"Hello from {name}\")\n",
        "p = Process(target=worker, args=(\"child process\",))\n",
        "p.start()\n",
        "p.join()\n",
        "print(\"Parent process finished\")\n",
        "\n",
        "Q:19-**What is the importance of closing a file in Python?**\n",
        "\n",
        "ANS:Afile object (often denoted as fp) is a representation of an open file. When working with files, it is essential to close the file properly to release system resources and ensure data integrity. Closing a file is crucial to avoid potential issues like data corruption and resource leaks.\n",
        " #Closing the file\n",
        "   fp.close()\n",
        "#Closing a file in Python is very important for several reasons.\n",
        "1)Freeing system resources\n",
        "EXAMPLE:\n",
        "f = open(\"example.txt\", \"r\")\n",
        "f.close()\n",
        "\n",
        "#Ensuring data is written\n",
        "EXAMPLE:\n",
        "f = open(\"example.txt\", \"w\")\n",
        "f.write(\"Hello, World!\")\n",
        "f.close()\n",
        "\n",
        "#Avoiding file corruption\n",
        "#Preventing errors\n",
        "#Using the with statement (recommended)\n",
        "EXAMPLE:\n",
        "with open(\"example.txt\", \"r\") as f:\n",
        "     data = f.read()\n",
        "\n",
        "\n",
        "Q:20-**What is the difference between file.read() and file.readline() in Python**?\n",
        "\n",
        "ANS:file.read():-\n",
        "1)Purpose: Reads the entire content of the file (or a specified number of characters).\n",
        "2)Return value: A single string containing everything read.\n",
        "3)Behavior:\n",
        "-If no argument is given, it reads all the remaining data from the current file position until the end.\n",
        "-If you provide a number n, it reads up to n characters.\n",
        "\n",
        "EXAMPLE:\n",
        "with open(\"example.txt\", \"r\") as f:\n",
        "     content = f.read()\n",
        "     print(content)\n",
        "#Reading part of the file:\n",
        "with open(\"example.txt\", \"r\") as f:\n",
        "     part = f.read(10)  # reads first 10 characters\n",
        "     print(part)\n",
        "\n",
        "#file.readline():-\n",
        "\n",
        "1)Purpose: Reads one line at a time from the file.\n",
        "\n",
        "2)Return value: A string containing the line, including the newline character \\n at the end (if present).\n",
        "\n",
        "3)Behavior:\n",
        "-Each call to readline() reads the next line in the file.\n",
        "-Useful when reading a file line by line, especially for large files.\n",
        "\n",
        "EXAMPLE:\n",
        "with open(\"example.txt\", \"r\") as f:\n",
        "     line1 = f.readline()\n",
        "     print(line1)\n",
        "    \n",
        "     line2 = f.readline()\n",
        "     print(line2)\n",
        "#Each readline() call advances the file pointer to the next line.\n",
        "\n",
        "Q:21-What is the logging module in Python used for?\n",
        "\n",
        "ANS:The logging module in Python is used for tracking events that happen while a program runs. It provides a flexible way to record messages from your code, which can help with debugging, monitoring, and auditing your application.\n",
        "\n",
        "#Key Uses of the logging module\n",
        "1)Debugging\n",
        "-Helps developers understand the flow of a program and identify where errors occur.\n",
        "Example: Logging variable values, function entries, or checkpoints.\n",
        "\n",
        "#Error Reporting\n",
        "1)Instead of using print() statements for errors, you can log errors with severity levels.\n",
        "2)Makes it easier to track problems in production.\n",
        "\n",
        "#Monitoring and Auditing\n",
        "1)Can track user actions, system events, or performance metrics.\n",
        "2)Useful in production systems for analyzing behavior over time.\n",
        "\n",
        "#Record-Keeping\n",
        "1)Logs can be saved to files, consoles, or external systems for historical records.\n",
        "2)Supports multiple formats, including timestamps, log levels, and messages.\n",
        "\n",
        "#Features of logging\n",
        "1)Supports different severity levels: DEBUG, INFO, WARNING, ERROR, CRITICAL.\n",
        "2)Can write logs to multiple destinations (console, file, network).\n",
        "3)Can format logs for clarity (timestamps, module names, etc.).\n",
        "4)Allows filtering logs based on severity or source.\n",
        "#EXAMPLE:\n",
        "import logging\n",
        "\n",
        "logging.basicConfig(level=logging.DEBUG, format='%(levelname)s:%(message)s')\n",
        "\n",
        "logging.debug(\"This is a debug message\")\n",
        "logging.info(\"Informational message\")\n",
        "logging.warning(\"A warning occurred\")\n",
        "logging.error(\"An error occurred\")\n",
        "logging.critical(\"Critical issue!\")\n",
        "\n",
        "\n",
        "Q:22-**What is the os module in Python used for in file handling**?\n",
        "\n",
        "ANS:OS module in Python provides functions for interacting with the operating system. OS comes under Python's standard utility modules. This module provides a portable way of using operating system-dependent functionality.\n",
        "#OS-Module Functions:-\n",
        "1)Handling the Current Working Directory\n",
        "2)Creating a Directory\n",
        "3)Listing out Files and Directories with Python\n",
        "4)Deleting Directory or Files using Python\n",
        "5)File Permissions and Metadata\n",
        "\n",
        "#Common Uses of os in File Handling\n",
        "1)Check if a file or directory exists\n",
        "EXAMPLE:\n",
        "import os\n",
        "\n",
        "if os.path.exists(\"example.txt\"):\n",
        "     print(\"File exists\")\n",
        "else:\n",
        "     print(\"File does not exist\")\n",
        "\n",
        "2)Get current working directory\n",
        "EXAMPLE:\n",
        "cwd = os.getcwd()\n",
        "print(\"Current Directory:\", cwd)\n",
        "\n",
        "3)Change working directory\n",
        "EXAMPLE:\n",
        "os.chdir(\"/path/to/directory\")\n",
        "print(\"Changed Directory:\", os.getcwd())\n",
        "\n",
        "4)Create a directory\n",
        "EXAMPLE:\n",
        "os.mkdir(\"new_folder\")\n",
        "\n",
        "5)List files and directories\n",
        "EXAMPLE:\n",
        "files = os.listdir(\".\")\n",
        "print(files)\n",
        "\n",
        "6)Remove a file\n",
        "EXAMPLE:\n",
        "os.remove(\"example.txt\")\n",
        "\n",
        "7)Remove a directory\n",
        "EXAMPLE:\n",
        "os.rmdir(\"new_folder\")  # Only works if folder is empty\n",
        "\n",
        "8)Get file information\n",
        "EXAMPLE:\n",
        "size = os.path.getsize(\"example.txt\")\n",
        "print(\"File size:\", size, \"bytes\")\n",
        "\n",
        "Q:23-**What are the challenges associated with memory management in Python**?\n",
        "\n",
        "ANS:Memory management in Python is automatic (handled by the interpreter), but it still comes with several challenges that developers should be aware of:-\n",
        "1)Garbage Collection Overhead\n",
        "2)Memory Leaks\n",
        "3)Fragmentation\n",
        "4)Global Interpreter Lock (GIL) and Concurrency\n",
        "5)Understanding and Debugging Memory Issues\n",
        "     \n",
        "Q:24-**How do you raise an exception manually in Python**?\n",
        "\n",
        "ANS:In Python, you can raise an exception manually using the raise keyword. This is useful when you want to signal an error condition in your program.\n",
        "SYNTAX:\n",
        "raise ExceptionType(\"Error message\")\n",
        "EXAMPLE:\n",
        "def divide(a, b):\n",
        "     if b == 0:\n",
        "        raise ValueError(\"Cannot divide by zero\")\n",
        "     return a / b\n",
        "\n",
        "try:\n",
        "   result = divide(10, 0)\n",
        "except ValueError as e:\n",
        "   print(f\"Error occurred: {e}\")\n",
        "\n",
        "      \n",
        "Q:25-**Why is it important to use multithreading in certain applications**?\n",
        "\n",
        "ANS:MULTITHREADING:-Multithreading allows a program to run multiple threads concurrently within the same process. It is important in certain applications for the following reasons\n",
        "\n",
        "1)Improving Performance for I/O-Bound Tasks\n",
        "-Applications that spend a lot of time waiting for input/output operations (e.g., reading files, network requests) benefit from multithreading.\n",
        "-While one thread waits for I/O, another thread can continue execution.\n",
        "\n",
        "2)Better Responsiveness in GUI Applications\n",
        "-In graphical applications, multithreading prevents the UI from freezing while performing time-consuming tasks in the background.\n",
        "\n",
        "3)Parallelism in Light-Weight Tasks\n",
        "-For tasks that can run independently, threads allow overlapping execution, improving efficiency.\n",
        "\n",
        "4)Resource Sharing\n",
        "-Threads share the same memory space, making it easier to share data between them compared to separate processes."
      ],
      "metadata": {
        "id": "LVauOqnEyIBZ"
      }
    },
    {
      "cell_type": "markdown",
      "source": [
        "**PRACTICAL QUESTIONS**"
      ],
      "metadata": {
        "id": "9dujbVL-lRA2"
      }
    },
    {
      "cell_type": "code",
      "source": [
        "#Q:1-How can you open a file for writing in Python and write a string to it.\n",
        "\n",
        "with open(\"example.txt\", \"w\") as file:\n",
        "    file.write(\"Hello, Python!\\nThis is a test file.\")\n",
        "\n",
        "print(\"String written to file successfully.\")\n"
      ],
      "metadata": {
        "colab": {
          "base_uri": "https://localhost:8080/"
        },
        "id": "UZDs6GGwlW1u",
        "outputId": "335205a9-38d4-4cfc-d749-5f50330b576b"
      },
      "execution_count": null,
      "outputs": [
        {
          "output_type": "stream",
          "name": "stdout",
          "text": [
            "String written to file successfully.\n"
          ]
        }
      ]
    },
    {
      "cell_type": "code",
      "source": [
        "#Q:2-Write a Python program to read the contents of a file and print each line.\n",
        "\n",
        "with open(\"example.txt\", \"r\") as file:\n",
        "    for line in file:\n",
        "        print(line, end=\"\")\n"
      ],
      "metadata": {
        "colab": {
          "base_uri": "https://localhost:8080/"
        },
        "id": "T3k5fI4Clwp3",
        "outputId": "dd75ec42-7333-48f8-c1a9-085483d3d77f"
      },
      "execution_count": null,
      "outputs": [
        {
          "output_type": "stream",
          "name": "stdout",
          "text": [
            "Hello, Python!\n",
            "This is a test file."
          ]
        }
      ]
    },
    {
      "cell_type": "code",
      "source": [
        "#Q:3-How would you handle a case where the file doesn't exist while trying to open it for reading.\n",
        "try:\n",
        "    with open(\"nonexistent.txt\", \"r\") as file:\n",
        "        data = file.read()\n",
        "except FileNotFoundError:\n",
        "    print(\"The file does not exist!\")\n"
      ],
      "metadata": {
        "colab": {
          "base_uri": "https://localhost:8080/"
        },
        "id": "7bfsqQzTmFsN",
        "outputId": "61c8b056-1fb0-4679-c66d-791eca643ca6"
      },
      "execution_count": null,
      "outputs": [
        {
          "output_type": "stream",
          "name": "stdout",
          "text": [
            "The file does not exist!\n"
          ]
        }
      ]
    },
    {
      "cell_type": "code",
      "source": [
        "#Q:4-Write a Python script that reads from one file and writes its content to another file.\n",
        "try:\n",
        "    with open(\"example.txt\", \"r\") as source_file:\n",
        "        content = source_file.read()\n",
        "\n",
        "    with open(\"copy.txt\", \"w\") as target_file:\n",
        "        target_file.write(content)\n",
        "\n",
        "    print(\"Content copied successfully.\")\n",
        "except FileNotFoundError:\n",
        "    print(\"Source file not found!\")\n"
      ],
      "metadata": {
        "colab": {
          "base_uri": "https://localhost:8080/"
        },
        "id": "CViYS-4zmRuA",
        "outputId": "89e07c60-4d79-49a6-e787-3cf6398fc164"
      },
      "execution_count": null,
      "outputs": [
        {
          "output_type": "stream",
          "name": "stdout",
          "text": [
            "Content copied successfully.\n"
          ]
        }
      ]
    },
    {
      "cell_type": "code",
      "source": [
        "#Q:5-How would you catch and handle division by zero error in Python.\n",
        "try:\n",
        "    x = 10\n",
        "    y = 0\n",
        "    result = x / y\n",
        "except ZeroDivisionError:\n",
        "    print(\"Cannot divide by zero!\")\n",
        "else:\n",
        "    print(\"Division result:\", result)\n"
      ],
      "metadata": {
        "colab": {
          "base_uri": "https://localhost:8080/"
        },
        "id": "o5OSLuyWmb5x",
        "outputId": "12bd7ebc-ee8b-48aa-8d2e-e82741277d5b"
      },
      "execution_count": null,
      "outputs": [
        {
          "output_type": "stream",
          "name": "stdout",
          "text": [
            "Cannot divide by zero!\n"
          ]
        }
      ]
    },
    {
      "cell_type": "code",
      "source": [
        "#Q:6-Write a Python program that logs an error message to a log file when a division by zero exception occurs.\n",
        "import logging\n",
        "\n",
        "logging.basicConfig(filename='app.log', level=logging.ERROR,\n",
        "                    format='%(asctime)s - %(levelname)s - %(message)s')\n",
        "\n",
        "try:\n",
        "    x = 10\n",
        "    y = 0\n",
        "    result = x / y\n",
        "except ZeroDivisionError as e:\n",
        "    logging.error(f\"Division by zero error: {e}\")\n",
        "    print(\"An error occurred. Check the log file.\")\n"
      ],
      "metadata": {
        "colab": {
          "base_uri": "https://localhost:8080/"
        },
        "id": "3njyieuwm7Pg",
        "outputId": "59d4073c-4d05-4c22-e837-f25b1aab6e74"
      },
      "execution_count": null,
      "outputs": [
        {
          "output_type": "stream",
          "name": "stderr",
          "text": [
            "ERROR:root:Division by zero error: division by zero\n"
          ]
        },
        {
          "output_type": "stream",
          "name": "stdout",
          "text": [
            "An error occurred. Check the log file.\n"
          ]
        }
      ]
    },
    {
      "cell_type": "code",
      "source": [
        "#Q:7-How do you log information at different levels (INFO, ERROR, WARNING) in Python using the logging module.\n",
        "import logging\n",
        "\n",
        "logging.basicConfig(filename='app_levels.log', level=logging.DEBUG,\n",
        "                    format='%(asctime)s - %(levelname)s - %(message)s')\n",
        "\n",
        "logging.debug(\"This is a debug message\")\n",
        "logging.info(\"This is an info message\")\n",
        "logging.warning(\"This is a warning message\")\n",
        "logging.error(\"This is an error message\")\n",
        "logging.critical(\"This is critical\")\n"
      ],
      "metadata": {
        "colab": {
          "base_uri": "https://localhost:8080/"
        },
        "id": "oXZhl1VonXpr",
        "outputId": "8fd8fe85-acec-4be3-e74e-25276bfe78f9"
      },
      "execution_count": null,
      "outputs": [
        {
          "output_type": "stream",
          "name": "stderr",
          "text": [
            "WARNING:root:This is a warning message\n",
            "ERROR:root:This is an error message\n",
            "CRITICAL:root:This is critical\n"
          ]
        }
      ]
    },
    {
      "cell_type": "code",
      "source": [
        "#Q:8-Write a program to handle a file opening error using exception handling.\n",
        "try:\n",
        "    with open(\"nonexistent_file.txt\", \"r\") as file:\n",
        "        content = file.read()\n",
        "except FileNotFoundError as e:\n",
        "    print(f\"File not found: {e}\")\n"
      ],
      "metadata": {
        "colab": {
          "base_uri": "https://localhost:8080/"
        },
        "id": "qN--cZG_nkgh",
        "outputId": "e7d0a71e-51e3-4a03-be69-97b7a3548846"
      },
      "execution_count": null,
      "outputs": [
        {
          "output_type": "stream",
          "name": "stdout",
          "text": [
            "File not found: [Errno 2] No such file or directory: 'nonexistent_file.txt'\n"
          ]
        }
      ]
    },
    {
      "cell_type": "code",
      "source": [
        "#Q:9-How can you read a file line by line and store its content in a list in Python.\n",
        "lines = []\n",
        "try:\n",
        "    with open(\"example.txt\", \"r\") as file:\n",
        "        for line in file:\n",
        "            lines.append(line.strip())\n",
        "except FileNotFoundError:\n",
        "    print(\"File does not exist\")\n",
        "\n",
        "## Now `lines` contains all lines from the file"
      ],
      "metadata": {
        "id": "GNso-2nGn05f"
      },
      "execution_count": null,
      "outputs": []
    },
    {
      "cell_type": "code",
      "source": [
        "#Q:10-How can you append data to an existing file in Python.\n",
        "data_to_append = \"This is a new line.\\n\"\n",
        "\n",
        "with open(\"example.txt\", \"a\") as file:\n",
        "    file.write(data_to_append)\n",
        "\n",
        "#This will add data_to_append at the end of example.txt without overwriting it."
      ],
      "metadata": {
        "id": "0vP4d7s4oPR5"
      },
      "execution_count": null,
      "outputs": []
    },
    {
      "cell_type": "code",
      "source": [
        "#Q:11- Write a Python program that uses a try-except block to handle an error when attempting to access a dictionary key that doesn't exist.\n",
        "my_dict = {\"name\": \"Archana\", \"age\": 25}\n",
        "\n",
        "try:\n",
        "    print(\"Address:\", my_dict[\"address\"])\n",
        "except KeyError:\n",
        "    print(\"The key 'address' does not exist in the dictionary.\")\n"
      ],
      "metadata": {
        "colab": {
          "base_uri": "https://localhost:8080/"
        },
        "id": "8kK037spWBSn",
        "outputId": "53fa85f4-d996-4649-845c-2d483e4a3d65"
      },
      "execution_count": null,
      "outputs": [
        {
          "output_type": "stream",
          "name": "stdout",
          "text": [
            "The key 'address' does not exist in the dictionary.\n"
          ]
        }
      ]
    },
    {
      "cell_type": "code",
      "source": [
        "#Q:12-Write a program that demonstrates using multiple except blocks to handle different types of exceptions.\n",
        "try:\n",
        "    num = int(input(\"Enter a number: \"))\n",
        "    result = 10 / num\n",
        "except ValueError:\n",
        "    print(\"Invalid input! Please enter a numeric value.\")\n",
        "except ZeroDivisionError:\n",
        "    print(\"Cannot divide by zero.\")\n",
        "except Exception as e:\n",
        "    print(\"An unexpected error occurred:\", e)\n",
        "else:\n",
        "    print(\"Division successful. Result:\", result)\n"
      ],
      "metadata": {
        "colab": {
          "base_uri": "https://localhost:8080/"
        },
        "id": "KdEXF_enWJ9h",
        "outputId": "9c364edb-20db-4452-cefb-d3d26b351821"
      },
      "execution_count": null,
      "outputs": [
        {
          "output_type": "stream",
          "name": "stdout",
          "text": [
            "Enter a number: 40\n",
            "Division successful. Result: 0.25\n"
          ]
        }
      ]
    },
    {
      "cell_type": "code",
      "source": [
        "#Q:13-How would you check if a file exists before attempting to read it in Python.\n",
        "import os\n",
        "\n",
        "file_path = \"sample.txt\"\n",
        "\n",
        "if os.path.exists(file_path):\n",
        "    with open(file_path, \"r\") as file:\n",
        "        print(file.read())\n",
        "else:\n",
        "    print(f\"The file '{file_path}' does not exist.\")\n"
      ],
      "metadata": {
        "colab": {
          "base_uri": "https://localhost:8080/"
        },
        "id": "9yRBAVcfWf4Q",
        "outputId": "273e9601-1d19-4934-9320-8ce14bf87722"
      },
      "execution_count": null,
      "outputs": [
        {
          "output_type": "stream",
          "name": "stdout",
          "text": [
            "The file 'sample.txt' does not exist.\n"
          ]
        }
      ]
    },
    {
      "cell_type": "code",
      "source": [
        "#Q:14-Write a program that uses the logging module to log both informational and error messages.\n",
        "import logging\n",
        "\n",
        "# Configure logging\n",
        "logging.basicConfig(filename='app.log', level=logging.INFO,\n",
        "                    format='%(asctime)s - %(levelname)s - %(message)s')\n",
        "\n",
        "logging.info(\"This is an informational message.\")\n",
        "\n",
        "try:\n",
        "    x = 10 / 0\n",
        "except ZeroDivisionError:\n",
        "    logging.error(\"Attempted division by zero!\")\n"
      ],
      "metadata": {
        "colab": {
          "base_uri": "https://localhost:8080/"
        },
        "id": "ct1DOguBWpPR",
        "outputId": "b1a1c680-6230-431b-c550-96188cd73a3b"
      },
      "execution_count": null,
      "outputs": [
        {
          "output_type": "stream",
          "name": "stderr",
          "text": [
            "ERROR:root:Attempted division by zero!\n"
          ]
        }
      ]
    },
    {
      "cell_type": "code",
      "source": [
        "#Q:15-Write a Python program that prints the content of a file and handles the case when the file is empty.\n",
        "file_path = \"sample.txt\"\n",
        "\n",
        "try:\n",
        "    with open(file_path, \"r\") as file:\n",
        "        content = file.read()\n",
        "        if content:\n",
        "            print(content)\n",
        "        else:\n",
        "            print(\"The file is empty.\")\n",
        "except FileNotFoundError:\n",
        "    print(f\"The file '{file_path}' does not exist.\")\n"
      ],
      "metadata": {
        "colab": {
          "base_uri": "https://localhost:8080/"
        },
        "id": "88H-1BsaW0nS",
        "outputId": "1aca65a3-e478-4455-ec93-75ecac2d52b4"
      },
      "execution_count": null,
      "outputs": [
        {
          "output_type": "stream",
          "name": "stdout",
          "text": [
            "The file 'sample.txt' does not exist.\n"
          ]
        }
      ]
    },
    {
      "cell_type": "code",
      "source": [
        "#Q:16-Demonstrate how to use memory profiling to check the memory usage of a small program.\n",
        "# Install memory_profiler if not installed: pip install memory-profiler\n",
        "from memory_profiler import profile\n",
        "\n",
        "@profile\n",
        "def create_list():\n",
        "    my_list = [i**2 for i in range(10000)]\n",
        "    return my_list\n",
        "\n",
        "if __name__ == \"__main__\":\n",
        "    create_list()\n"
      ],
      "metadata": {
        "id": "UKNkend9XSG2"
      },
      "execution_count": null,
      "outputs": []
    },
    {
      "cell_type": "code",
      "source": [
        "#Q:17-Write a Python program to create and write a list of numbers to a file, one number per line.\n",
        "numbers = [1, 2, 3, 4, 5]\n",
        "\n",
        "with open(\"numbers.txt\", \"w\") as file:\n",
        "    for number in numbers:\n",
        "        file.write(f\"{number}\\n\")\n"
      ],
      "metadata": {
        "id": "_yQBxs2xXSFD"
      },
      "execution_count": null,
      "outputs": []
    },
    {
      "cell_type": "code",
      "source": [
        "#Q:18-How would you implement a basic logging setup that logs to a file with rotation after 1MB\n",
        "import logging\n",
        "from logging.handlers import RotatingFileHandler\n",
        "\n",
        "logger = logging.getLogger(\"MyLogger\")\n",
        "logger.setLevel(logging.INFO)\n",
        "\n",
        "handler = RotatingFileHandler(\"app.log\", maxBytes=1_000_000, backupCount=3)\n",
        "formatter = logging.Formatter('%(asctime)s - %(levelname)s - %(message)s')\n",
        "handler.setFormatter(formatter)\n",
        "logger.addHandler(handler)\n",
        "\n",
        "logger.info(\"This is an info message.\")\n",
        "logger.error(\"This is an error message.\")\n"
      ],
      "metadata": {
        "id": "V4x8GBE4XR30"
      },
      "execution_count": null,
      "outputs": []
    },
    {
      "cell_type": "code",
      "source": [
        "#Q:19-Write a program that handles both IndexError and KeyError using a try-except block.\n",
        "my_list = [1, 2, 3]\n",
        "my_dict = {\"a\": 1}\n",
        "\n",
        "try:\n",
        "    print(my_list[5])\n",
        "    print(my_dict[\"b\"])\n",
        "except IndexError:\n",
        "    print(\"Index out of range.\")\n",
        "except KeyError:\n",
        "    print(\"Key not found.\")\n"
      ],
      "metadata": {
        "id": "old_1yfAYanr"
      },
      "execution_count": null,
      "outputs": []
    },
    {
      "cell_type": "code",
      "source": [
        "#Q:20-How would you open a file and read its contents using a context manager in Python.\n",
        "file_path = \"sample.txt\"\n",
        "\n",
        "with open(file_path, \"r\") as file:\n",
        "    content = file.read()\n",
        "    print(content)\n"
      ],
      "metadata": {
        "id": "jc0jIxBSYajp"
      },
      "execution_count": null,
      "outputs": []
    },
    {
      "cell_type": "code",
      "source": [
        "#Q:21-Write a Python program that reads a file and prints the number of occurrences of a specific word.\n",
        "file_path = \"sample.txt\"\n",
        "word_to_count = \"Python\"\n",
        "\n",
        "with open(file_path, \"r\") as file:\n",
        "    content = file.read()\n",
        "\n",
        "count = content.lower().count(word_to_count.lower())\n",
        "print(f\"The word '{word_to_count}' occurs {count} times.\")\n"
      ],
      "metadata": {
        "id": "s-WtSWqXYahG",
        "colab": {
          "base_uri": "https://localhost:8080/",
          "height": 211
        },
        "outputId": "86854b7a-85d4-4d71-d476-0bb9a50d7427"
      },
      "execution_count": null,
      "outputs": [
        {
          "output_type": "error",
          "ename": "FileNotFoundError",
          "evalue": "[Errno 2] No such file or directory: 'sample.txt'",
          "traceback": [
            "\u001b[0;31m---------------------------------------------------------------------------\u001b[0m",
            "\u001b[0;31mFileNotFoundError\u001b[0m                         Traceback (most recent call last)",
            "\u001b[0;32m/tmp/ipython-input-3557477645.py\u001b[0m in \u001b[0;36m<cell line: 0>\u001b[0;34m()\u001b[0m\n\u001b[1;32m      3\u001b[0m \u001b[0mword_to_count\u001b[0m \u001b[0;34m=\u001b[0m \u001b[0;34m\"Python\"\u001b[0m\u001b[0;34m\u001b[0m\u001b[0;34m\u001b[0m\u001b[0m\n\u001b[1;32m      4\u001b[0m \u001b[0;34m\u001b[0m\u001b[0m\n\u001b[0;32m----> 5\u001b[0;31m \u001b[0;32mwith\u001b[0m \u001b[0mopen\u001b[0m\u001b[0;34m(\u001b[0m\u001b[0mfile_path\u001b[0m\u001b[0;34m,\u001b[0m \u001b[0;34m\"r\"\u001b[0m\u001b[0;34m)\u001b[0m \u001b[0;32mas\u001b[0m \u001b[0mfile\u001b[0m\u001b[0;34m:\u001b[0m\u001b[0;34m\u001b[0m\u001b[0;34m\u001b[0m\u001b[0m\n\u001b[0m\u001b[1;32m      6\u001b[0m     \u001b[0mcontent\u001b[0m \u001b[0;34m=\u001b[0m \u001b[0mfile\u001b[0m\u001b[0;34m.\u001b[0m\u001b[0mread\u001b[0m\u001b[0;34m(\u001b[0m\u001b[0;34m)\u001b[0m\u001b[0;34m\u001b[0m\u001b[0;34m\u001b[0m\u001b[0m\n\u001b[1;32m      7\u001b[0m \u001b[0;34m\u001b[0m\u001b[0m\n",
            "\u001b[0;31mFileNotFoundError\u001b[0m: [Errno 2] No such file or directory: 'sample.txt'"
          ]
        }
      ]
    },
    {
      "cell_type": "code",
      "source": [
        "#Q:22-How can you check if a file is empty before attempting to read its contents.\n",
        "import os\n",
        "\n",
        "file_path = \"sample.txt\"\n",
        "\n",
        "if os.path.exists(file_path) and os.path.getsize(file_path) > 0:\n",
        "    with open(file_path, \"r\") as file:\n",
        "        print(file.read())\n",
        "else:\n",
        "    print(\"File is empty or does not exist.\")\n"
      ],
      "metadata": {
        "id": "n0Ys8NEyYpjb",
        "colab": {
          "base_uri": "https://localhost:8080/"
        },
        "outputId": "2cee5e5a-133c-4677-cd8a-d75d74bf0cab"
      },
      "execution_count": null,
      "outputs": [
        {
          "output_type": "stream",
          "name": "stdout",
          "text": [
            "File is empty or does not exist.\n"
          ]
        }
      ]
    },
    {
      "cell_type": "code",
      "source": [
        "#Q:23-Write a Python program that writes to a log file when an error occurs during file handling.\n",
        "import logging\n",
        "\n",
        "logging.basicConfig(filename='file_errors.log', level=logging.ERROR,\n",
        "                    format='%(asctime)s - %(levelname)s - %(message)s')\n",
        "\n",
        "file_path = \"nonexistent.txt\"\n",
        "\n",
        "try:\n",
        "    with open(file_path, \"r\") as file:\n",
        "        content = file.read()\n",
        "except FileNotFoundError as e:\n",
        "    logging.error(f\"Error opening file: {e}\")\n",
        "    print(\"An error occurred. Check log for details.\")\n"
      ],
      "metadata": {
        "id": "B7DgL9nhYpVb",
        "colab": {
          "base_uri": "https://localhost:8080/"
        },
        "outputId": "15650e4d-4ea3-455e-bdf5-4d0cb77c89dc"
      },
      "execution_count": null,
      "outputs": [
        {
          "output_type": "stream",
          "name": "stderr",
          "text": [
            "ERROR:root:Error opening file: [Errno 2] No such file or directory: 'nonexistent.txt'\n"
          ]
        },
        {
          "output_type": "stream",
          "name": "stdout",
          "text": [
            "An error occurred. Check log for details.\n"
          ]
        }
      ]
    }
  ]
}